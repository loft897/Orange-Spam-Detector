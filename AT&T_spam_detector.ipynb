{
 "cells": [
  {
   "cell_type": "markdown",
   "metadata": {},
   "source": [
    "# Libraries & Setup"
   ]
  },
  {
   "cell_type": "code",
   "execution_count": 32,
   "metadata": {},
   "outputs": [],
   "source": [
    "# Import Tensorflow & Pathlib librairies\n",
    "import tensorflow as tf\n",
    "from tensorflow.keras import Sequential\n",
    "from tensorflow.keras.layers import Dense, Dropout, Embedding, GlobalAveragePooling1D, GRU, SimpleRNN, LSTM\n",
    "from tensorflow.keras.losses import SparseCategoricalCrossentropy\n",
    "from tensorflow.keras.optimizers import Adam\n",
    "\n",
    "import pandas as pd \n",
    "import matplotlib.pyplot as plt\n",
    "import seaborn as sns\n",
    "\n",
    "import pathlib \n",
    "import os\n",
    "import io\n",
    "import json\n",
    "import warnings\n",
    "\n",
    "from sklearn.model_selection import train_test_split\n",
    "from sklearn.metrics import ConfusionMatrixDisplay, classification_report\n",
    "\n",
    "import spacy # for text encoding\n",
    "from spacy.lang.en.stop_words import STOP_WORDS\n",
    "\n",
    "#!python -m spacy download en_core_web_md\n",
    "nlp = spacy.load('en_core_web_md')\n",
    "\n",
    "warnings.filterwarnings('ignore')"
   ]
  },
  {
   "cell_type": "markdown",
   "metadata": {},
   "source": [
    "# Dataset loading"
   ]
  },
  {
   "cell_type": "code",
   "execution_count": 17,
   "metadata": {},
   "outputs": [
    {
     "name": "stdout",
     "output_type": "stream",
     "text": [
      "Loading dataset...\n",
      "...Done.\n",
      "\n"
     ]
    }
   ],
   "source": [
    "# Import dataset\n",
    "print(\"Loading dataset...\")\n",
    "df = pd.read_csv(\"./assets/spam.csv\", encoding='ANSI')  # sep = \";\"\n",
    "pd.set_option('display.max_columns', None)\n",
    "print(\"...Done.\")\n",
    "print()"
   ]
  },
  {
   "cell_type": "code",
   "execution_count": 18,
   "metadata": {},
   "outputs": [
    {
     "name": "stdout",
     "output_type": "stream",
     "text": [
      "<class 'pandas.core.frame.DataFrame'>\n",
      "RangeIndex: 5572 entries, 0 to 5571\n",
      "Data columns (total 5 columns):\n",
      " #   Column      Non-Null Count  Dtype \n",
      "---  ------      --------------  ----- \n",
      " 0   v1          5572 non-null   object\n",
      " 1   v2          5572 non-null   object\n",
      " 2   Unnamed: 2  50 non-null     object\n",
      " 3   Unnamed: 3  12 non-null     object\n",
      " 4   Unnamed: 4  6 non-null      object\n",
      "dtypes: object(5)\n",
      "memory usage: 217.8+ KB\n"
     ]
    }
   ],
   "source": [
    "df.info()"
   ]
  },
  {
   "cell_type": "code",
   "execution_count": 19,
   "metadata": {},
   "outputs": [
    {
     "name": "stdout",
     "output_type": "stream",
     "text": [
      "Number of rows : 5572\n",
      "\n",
      "Display of dataset: \n"
     ]
    },
    {
     "data": {
      "text/html": [
       "<div>\n",
       "<style scoped>\n",
       "    .dataframe tbody tr th:only-of-type {\n",
       "        vertical-align: middle;\n",
       "    }\n",
       "\n",
       "    .dataframe tbody tr th {\n",
       "        vertical-align: top;\n",
       "    }\n",
       "\n",
       "    .dataframe thead th {\n",
       "        text-align: right;\n",
       "    }\n",
       "</style>\n",
       "<table border=\"1\" class=\"dataframe\">\n",
       "  <thead>\n",
       "    <tr style=\"text-align: right;\">\n",
       "      <th></th>\n",
       "      <th>v1</th>\n",
       "      <th>v2</th>\n",
       "      <th>Unnamed: 2</th>\n",
       "      <th>Unnamed: 3</th>\n",
       "      <th>Unnamed: 4</th>\n",
       "    </tr>\n",
       "  </thead>\n",
       "  <tbody>\n",
       "    <tr>\n",
       "      <th>0</th>\n",
       "      <td>ham</td>\n",
       "      <td>Go until jurong point, crazy.. Available only ...</td>\n",
       "      <td>NaN</td>\n",
       "      <td>NaN</td>\n",
       "      <td>NaN</td>\n",
       "    </tr>\n",
       "    <tr>\n",
       "      <th>1</th>\n",
       "      <td>ham</td>\n",
       "      <td>Ok lar... Joking wif u oni...</td>\n",
       "      <td>NaN</td>\n",
       "      <td>NaN</td>\n",
       "      <td>NaN</td>\n",
       "    </tr>\n",
       "    <tr>\n",
       "      <th>2</th>\n",
       "      <td>spam</td>\n",
       "      <td>Free entry in 2 a wkly comp to win FA Cup fina...</td>\n",
       "      <td>NaN</td>\n",
       "      <td>NaN</td>\n",
       "      <td>NaN</td>\n",
       "    </tr>\n",
       "    <tr>\n",
       "      <th>3</th>\n",
       "      <td>ham</td>\n",
       "      <td>U dun say so early hor... U c already then say...</td>\n",
       "      <td>NaN</td>\n",
       "      <td>NaN</td>\n",
       "      <td>NaN</td>\n",
       "    </tr>\n",
       "    <tr>\n",
       "      <th>4</th>\n",
       "      <td>ham</td>\n",
       "      <td>Nah I don't think he goes to usf, he lives aro...</td>\n",
       "      <td>NaN</td>\n",
       "      <td>NaN</td>\n",
       "      <td>NaN</td>\n",
       "    </tr>\n",
       "  </tbody>\n",
       "</table>\n",
       "</div>"
      ],
      "text/plain": [
       "     v1                                                 v2 Unnamed: 2  \\\n",
       "0   ham  Go until jurong point, crazy.. Available only ...        NaN   \n",
       "1   ham                      Ok lar... Joking wif u oni...        NaN   \n",
       "2  spam  Free entry in 2 a wkly comp to win FA Cup fina...        NaN   \n",
       "3   ham  U dun say so early hor... U c already then say...        NaN   \n",
       "4   ham  Nah I don't think he goes to usf, he lives aro...        NaN   \n",
       "\n",
       "  Unnamed: 3 Unnamed: 4  \n",
       "0        NaN        NaN  \n",
       "1        NaN        NaN  \n",
       "2        NaN        NaN  \n",
       "3        NaN        NaN  \n",
       "4        NaN        NaN  "
      ]
     },
     "metadata": {},
     "output_type": "display_data"
    },
    {
     "name": "stdout",
     "output_type": "stream",
     "text": [
      "\n",
      "Basics statistics: \n"
     ]
    },
    {
     "data": {
      "text/html": [
       "<div>\n",
       "<style scoped>\n",
       "    .dataframe tbody tr th:only-of-type {\n",
       "        vertical-align: middle;\n",
       "    }\n",
       "\n",
       "    .dataframe tbody tr th {\n",
       "        vertical-align: top;\n",
       "    }\n",
       "\n",
       "    .dataframe thead th {\n",
       "        text-align: right;\n",
       "    }\n",
       "</style>\n",
       "<table border=\"1\" class=\"dataframe\">\n",
       "  <thead>\n",
       "    <tr style=\"text-align: right;\">\n",
       "      <th></th>\n",
       "      <th>v1</th>\n",
       "      <th>v2</th>\n",
       "      <th>Unnamed: 2</th>\n",
       "      <th>Unnamed: 3</th>\n",
       "      <th>Unnamed: 4</th>\n",
       "    </tr>\n",
       "  </thead>\n",
       "  <tbody>\n",
       "    <tr>\n",
       "      <th>count</th>\n",
       "      <td>5572</td>\n",
       "      <td>5572</td>\n",
       "      <td>50</td>\n",
       "      <td>12</td>\n",
       "      <td>6</td>\n",
       "    </tr>\n",
       "    <tr>\n",
       "      <th>unique</th>\n",
       "      <td>2</td>\n",
       "      <td>5169</td>\n",
       "      <td>43</td>\n",
       "      <td>10</td>\n",
       "      <td>5</td>\n",
       "    </tr>\n",
       "    <tr>\n",
       "      <th>top</th>\n",
       "      <td>ham</td>\n",
       "      <td>Sorry, I'll call later</td>\n",
       "      <td>bt not his girlfrnd... G o o d n i g h t . . .@\"</td>\n",
       "      <td>MK17 92H. 450Ppw 16\"</td>\n",
       "      <td>GNT:-)\"</td>\n",
       "    </tr>\n",
       "    <tr>\n",
       "      <th>freq</th>\n",
       "      <td>4825</td>\n",
       "      <td>30</td>\n",
       "      <td>3</td>\n",
       "      <td>2</td>\n",
       "      <td>2</td>\n",
       "    </tr>\n",
       "  </tbody>\n",
       "</table>\n",
       "</div>"
      ],
      "text/plain": [
       "          v1                      v2  \\\n",
       "count   5572                    5572   \n",
       "unique     2                    5169   \n",
       "top      ham  Sorry, I'll call later   \n",
       "freq    4825                      30   \n",
       "\n",
       "                                               Unnamed: 2  \\\n",
       "count                                                  50   \n",
       "unique                                                 43   \n",
       "top      bt not his girlfrnd... G o o d n i g h t . . .@\"   \n",
       "freq                                                    3   \n",
       "\n",
       "                   Unnamed: 3 Unnamed: 4  \n",
       "count                      12          6  \n",
       "unique                     10          5  \n",
       "top      MK17 92H. 450Ppw 16\"    GNT:-)\"  \n",
       "freq                        2          2  "
      ]
     },
     "metadata": {},
     "output_type": "display_data"
    },
    {
     "name": "stdout",
     "output_type": "stream",
     "text": [
      "\n",
      "Percentage of missing values: \n"
     ]
    },
    {
     "data": {
      "text/html": [
       "<div>\n",
       "<style scoped>\n",
       "    .dataframe tbody tr th:only-of-type {\n",
       "        vertical-align: middle;\n",
       "    }\n",
       "\n",
       "    .dataframe tbody tr th {\n",
       "        vertical-align: top;\n",
       "    }\n",
       "\n",
       "    .dataframe thead th {\n",
       "        text-align: right;\n",
       "    }\n",
       "</style>\n",
       "<table border=\"1\" class=\"dataframe\">\n",
       "  <thead>\n",
       "    <tr style=\"text-align: right;\">\n",
       "      <th></th>\n",
       "      <th>Missing Records</th>\n",
       "      <th>Percentage (%)</th>\n",
       "    </tr>\n",
       "  </thead>\n",
       "  <tbody>\n",
       "    <tr>\n",
       "      <th>v1</th>\n",
       "      <td>0</td>\n",
       "      <td>0.000000</td>\n",
       "    </tr>\n",
       "    <tr>\n",
       "      <th>v2</th>\n",
       "      <td>0</td>\n",
       "      <td>0.000000</td>\n",
       "    </tr>\n",
       "    <tr>\n",
       "      <th>Unnamed: 2</th>\n",
       "      <td>5522</td>\n",
       "      <td>99.102656</td>\n",
       "    </tr>\n",
       "    <tr>\n",
       "      <th>Unnamed: 3</th>\n",
       "      <td>5560</td>\n",
       "      <td>99.784637</td>\n",
       "    </tr>\n",
       "    <tr>\n",
       "      <th>Unnamed: 4</th>\n",
       "      <td>5566</td>\n",
       "      <td>99.892319</td>\n",
       "    </tr>\n",
       "  </tbody>\n",
       "</table>\n",
       "</div>"
      ],
      "text/plain": [
       "            Missing Records  Percentage (%)\n",
       "v1                        0        0.000000\n",
       "v2                        0        0.000000\n",
       "Unnamed: 2             5522       99.102656\n",
       "Unnamed: 3             5560       99.784637\n",
       "Unnamed: 4             5566       99.892319"
      ]
     },
     "execution_count": 19,
     "metadata": {},
     "output_type": "execute_result"
    }
   ],
   "source": [
    "# Basic stats\n",
    "print(\"Number of rows : {}\".format(df.shape[0]))\n",
    "print()\n",
    "\n",
    "print(\"Display of dataset: \")\n",
    "display(df.head())\n",
    "print()\n",
    "\n",
    "print(\"Basics statistics: \")\n",
    "data_desc = df.describe(include='all')\n",
    "display(data_desc)\n",
    "print()\n",
    "\n",
    "print(\"Percentage of missing values: \")\n",
    "\n",
    "pd.concat([df.isnull().sum(), 100 * df.isnull().sum()/len(df)], axis=1).rename(columns={0:'Missing Records', 1:'Percentage (%)'})"
   ]
  },
  {
   "cell_type": "markdown",
   "metadata": {},
   "source": [
    "Nous avons \"ham\" qui représente de bons messages et nous avons du \"spam\" qui représente des messages indésirables."
   ]
  },
  {
   "cell_type": "markdown",
   "metadata": {},
   "source": [
    "# Data Cleaning et Viz"
   ]
  },
  {
   "cell_type": "code",
   "execution_count": 20,
   "metadata": {},
   "outputs": [],
   "source": [
    "# Les colonnes 2, 3, 4 ont des valeurs manquantes majoritaires, il est donc préférable de les supprimer.\n",
    "df.drop(columns=['Unnamed: 2', 'Unnamed: 3', 'Unnamed: 4'], inplace = True)"
   ]
  },
  {
   "cell_type": "code",
   "execution_count": 21,
   "metadata": {},
   "outputs": [],
   "source": [
    "# On renomme les noms de colonne\n",
    "df.rename(columns = {'v1':'result', 'v2':'input'}, inplace=True)"
   ]
  },
  {
   "cell_type": "code",
   "execution_count": 22,
   "metadata": {},
   "outputs": [
    {
     "data": {
      "text/html": [
       "<div>\n",
       "<style scoped>\n",
       "    .dataframe tbody tr th:only-of-type {\n",
       "        vertical-align: middle;\n",
       "    }\n",
       "\n",
       "    .dataframe tbody tr th {\n",
       "        vertical-align: top;\n",
       "    }\n",
       "\n",
       "    .dataframe thead th {\n",
       "        text-align: right;\n",
       "    }\n",
       "</style>\n",
       "<table border=\"1\" class=\"dataframe\">\n",
       "  <thead>\n",
       "    <tr style=\"text-align: right;\">\n",
       "      <th></th>\n",
       "      <th>Missing Records</th>\n",
       "      <th>Percentage (%)</th>\n",
       "    </tr>\n",
       "  </thead>\n",
       "  <tbody>\n",
       "    <tr>\n",
       "      <th>result</th>\n",
       "      <td>0</td>\n",
       "      <td>0.0</td>\n",
       "    </tr>\n",
       "    <tr>\n",
       "      <th>input</th>\n",
       "      <td>0</td>\n",
       "      <td>0.0</td>\n",
       "    </tr>\n",
       "  </tbody>\n",
       "</table>\n",
       "</div>"
      ],
      "text/plain": [
       "        Missing Records  Percentage (%)\n",
       "result                0             0.0\n",
       "input                 0             0.0"
      ]
     },
     "execution_count": 22,
     "metadata": {},
     "output_type": "execute_result"
    }
   ],
   "source": [
    "pd.concat([df.isnull().sum(), 100 * df.isnull().sum()/len(df)], axis=1).rename(columns={0:'Missing Records', 1:'Percentage (%)'})"
   ]
  },
  {
   "cell_type": "code",
   "execution_count": 23,
   "metadata": {},
   "outputs": [
    {
     "data": {
      "text/html": [
       "<div>\n",
       "<style scoped>\n",
       "    .dataframe tbody tr th:only-of-type {\n",
       "        vertical-align: middle;\n",
       "    }\n",
       "\n",
       "    .dataframe tbody tr th {\n",
       "        vertical-align: top;\n",
       "    }\n",
       "\n",
       "    .dataframe thead th {\n",
       "        text-align: right;\n",
       "    }\n",
       "</style>\n",
       "<table border=\"1\" class=\"dataframe\">\n",
       "  <thead>\n",
       "    <tr style=\"text-align: right;\">\n",
       "      <th></th>\n",
       "      <th>result</th>\n",
       "      <th>input</th>\n",
       "    </tr>\n",
       "  </thead>\n",
       "  <tbody>\n",
       "    <tr>\n",
       "      <th>2936</th>\n",
       "      <td>ham</td>\n",
       "      <td>Lol yep did that yesterday. Already got my fir...</td>\n",
       "    </tr>\n",
       "    <tr>\n",
       "      <th>2143</th>\n",
       "      <td>ham</td>\n",
       "      <td>You stayin out of trouble stranger!!saw Dave t...</td>\n",
       "    </tr>\n",
       "    <tr>\n",
       "      <th>465</th>\n",
       "      <td>ham</td>\n",
       "      <td>great princess! I love giving and receiving or...</td>\n",
       "    </tr>\n",
       "    <tr>\n",
       "      <th>5208</th>\n",
       "      <td>ham</td>\n",
       "      <td>Hi.what you think about match?</td>\n",
       "    </tr>\n",
       "    <tr>\n",
       "      <th>39</th>\n",
       "      <td>ham</td>\n",
       "      <td>Hello! How's you and how did saturday go? I wa...</td>\n",
       "    </tr>\n",
       "  </tbody>\n",
       "</table>\n",
       "</div>"
      ],
      "text/plain": [
       "     result                                              input\n",
       "2936    ham  Lol yep did that yesterday. Already got my fir...\n",
       "2143    ham  You stayin out of trouble stranger!!saw Dave t...\n",
       "465     ham  great princess! I love giving and receiving or...\n",
       "5208    ham                     Hi.what you think about match?\n",
       "39      ham  Hello! How's you and how did saturday go? I wa..."
      ]
     },
     "execution_count": 23,
     "metadata": {},
     "output_type": "execute_result"
    }
   ],
   "source": [
    "df.sample(5)"
   ]
  },
  {
   "cell_type": "code",
   "execution_count": 24,
   "metadata": {},
   "outputs": [
    {
     "data": {
      "text/plain": [
       "result\n",
       "ham     4825\n",
       "spam     747\n",
       "Name: count, dtype: int64"
      ]
     },
     "execution_count": 24,
     "metadata": {},
     "output_type": "execute_result"
    }
   ],
   "source": [
    "\n",
    "#checking the number of SPAM vs not SPAM messages\n",
    "df['result'].value_counts()"
   ]
  },
  {
   "cell_type": "code",
   "execution_count": 25,
   "metadata": {},
   "outputs": [
    {
     "data": {
      "image/png": "[encoded data removed]",
      "text/plain": [
       "<Figure size 640x480 with 1 Axes>"
      ]
     },
     "metadata": {},
     "output_type": "display_data"
    }
   ],
   "source": [
    "# réprésentation graphique\n",
    "\n",
    "plt.pie(df['result'].value_counts(),  labels = ['ham', 'spam'], autopct = '%0.2f', radius = 0.8)\n",
    "plt.show()"
   ]
  },
  {
   "cell_type": "markdown",
   "metadata": {},
   "source": [
    "# Preprocessing"
   ]
  },
  {
   "cell_type": "markdown",
   "metadata": {},
   "source": [
    "### 1. Text formating"
   ]
  },
  {
   "cell_type": "code",
   "execution_count": 29,
   "metadata": {},
   "outputs": [
    {
     "name": "stdout",
     "output_type": "stream",
     "text": [
      "Processing...\n"
     ]
    },
    {
     "data": {
      "text/html": [
       "<div>\n",
       "<style scoped>\n",
       "    .dataframe tbody tr th:only-of-type {\n",
       "        vertical-align: middle;\n",
       "    }\n",
       "\n",
       "    .dataframe tbody tr th {\n",
       "        vertical-align: top;\n",
       "    }\n",
       "\n",
       "    .dataframe thead th {\n",
       "        text-align: right;\n",
       "    }\n",
       "</style>\n",
       "<table border=\"1\" class=\"dataframe\">\n",
       "  <thead>\n",
       "    <tr style=\"text-align: right;\">\n",
       "      <th></th>\n",
       "      <th>result</th>\n",
       "      <th>input</th>\n",
       "      <th>target</th>\n",
       "      <th>input_cleaned</th>\n",
       "    </tr>\n",
       "  </thead>\n",
       "  <tbody>\n",
       "    <tr>\n",
       "      <th>2700</th>\n",
       "      <td>ham</td>\n",
       "      <td>Feb  &amp;lt;#&amp;gt;  is \\I LOVE U\\\" day. Send dis t...</td>\n",
       "      <td>0</td>\n",
       "      <td>feb ltgt is i love u day send dis to all ur va...</td>\n",
       "    </tr>\n",
       "    <tr>\n",
       "      <th>2806</th>\n",
       "      <td>spam</td>\n",
       "      <td>December only! Had your mobile 11mths+? You ar...</td>\n",
       "      <td>1</td>\n",
       "      <td>december only had your mobile 11mths you are e...</td>\n",
       "    </tr>\n",
       "    <tr>\n",
       "      <th>1922</th>\n",
       "      <td>ham</td>\n",
       "      <td>I'll be in sch fr 4-6... I dun haf da book in ...</td>\n",
       "      <td>0</td>\n",
       "      <td>ill be in sch fr 46 i dun haf da book in sch i...</td>\n",
       "    </tr>\n",
       "    <tr>\n",
       "      <th>4442</th>\n",
       "      <td>ham</td>\n",
       "      <td>You know my old Dom I told you about yesterday...</td>\n",
       "      <td>0</td>\n",
       "      <td>you know my old dom i told you about yesterday...</td>\n",
       "    </tr>\n",
       "    <tr>\n",
       "      <th>4182</th>\n",
       "      <td>ham</td>\n",
       "      <td>Sorry, I'll call later in meeting</td>\n",
       "      <td>0</td>\n",
       "      <td>sorry ill call later in meeting</td>\n",
       "    </tr>\n",
       "  </tbody>\n",
       "</table>\n",
       "</div>"
      ],
      "text/plain": [
       "     result                                              input  target  \\\n",
       "2700    ham  Feb  &lt;#&gt;  is \\I LOVE U\\\" day. Send dis t...       0   \n",
       "2806   spam  December only! Had your mobile 11mths+? You ar...       1   \n",
       "1922    ham  I'll be in sch fr 4-6... I dun haf da book in ...       0   \n",
       "4442    ham  You know my old Dom I told you about yesterday...       0   \n",
       "4182    ham                  Sorry, I'll call later in meeting       0   \n",
       "\n",
       "                                          input_cleaned  \n",
       "2700  feb ltgt is i love u day send dis to all ur va...  \n",
       "2806  december only had your mobile 11mths you are e...  \n",
       "1922  ill be in sch fr 46 i dun haf da book in sch i...  \n",
       "4442  you know my old dom i told you about yesterday...  \n",
       "4182                    sorry ill call later in meeting  "
      ]
     },
     "execution_count": 29,
     "metadata": {},
     "output_type": "execute_result"
    }
   ],
   "source": [
    "# On nettoie les textes envoyés \"input\", en enlevant les caractères spéciaux, les espaces en trop, et les majuscules et en categorisant le resultat 0/1\n",
    "\n",
    "df[\"target\"] = df[\"result\"].apply(lambda x : 1 if x == \"spam\" else 0)\n",
    "df[\"input_cleaned\"] = df[\"input\"].apply(lambda x : ''.join(ch for ch in x if ch.isalnum() or ch==\" \"))\n",
    "df[\"input_cleaned\"] = df[\"input_cleaned\"].apply(lambda x: x.replace(\"  \",\" \").lower().strip())\n",
    "print(\"Processing...\")\n",
    "df.sample(5)"
   ]
  },
  {
   "cell_type": "markdown",
   "metadata": {},
   "source": [
    "### 2. Lemnatization"
   ]
  },
  {
   "cell_type": "code",
   "execution_count": 33,
   "metadata": {},
   "outputs": [
    {
     "data": {
      "text/html": [
       "<div>\n",
       "<style scoped>\n",
       "    .dataframe tbody tr th:only-of-type {\n",
       "        vertical-align: middle;\n",
       "    }\n",
       "\n",
       "    .dataframe tbody tr th {\n",
       "        vertical-align: top;\n",
       "    }\n",
       "\n",
       "    .dataframe thead th {\n",
       "        text-align: right;\n",
       "    }\n",
       "</style>\n",
       "<table border=\"1\" class=\"dataframe\">\n",
       "  <thead>\n",
       "    <tr style=\"text-align: right;\">\n",
       "      <th></th>\n",
       "      <th>result</th>\n",
       "      <th>input</th>\n",
       "      <th>target</th>\n",
       "      <th>input_cleaned</th>\n",
       "      <th>input_lemnatized</th>\n",
       "    </tr>\n",
       "  </thead>\n",
       "  <tbody>\n",
       "    <tr>\n",
       "      <th>1487</th>\n",
       "      <td>ham</td>\n",
       "      <td>I told your number to gautham..</td>\n",
       "      <td>0</td>\n",
       "      <td>i told your number to gautham</td>\n",
       "      <td>tell number gautham</td>\n",
       "    </tr>\n",
       "    <tr>\n",
       "      <th>3253</th>\n",
       "      <td>ham</td>\n",
       "      <td>I can make lasagna for you... vodka...</td>\n",
       "      <td>0</td>\n",
       "      <td>i can make lasagna for you vodka</td>\n",
       "      <td>lasagna vodka</td>\n",
       "    </tr>\n",
       "    <tr>\n",
       "      <th>2701</th>\n",
       "      <td>ham</td>\n",
       "      <td>Hiya, sorry didn't hav signal. I haven't seen ...</td>\n",
       "      <td>0</td>\n",
       "      <td>hiya sorry didnt hav signal i havent seen or h...</td>\n",
       "      <td>hiya sorry hav signal hear unusual ill case so...</td>\n",
       "    </tr>\n",
       "    <tr>\n",
       "      <th>1856</th>\n",
       "      <td>ham</td>\n",
       "      <td>Say this slowly.? GOD,I LOVE YOU &amp;amp; I NEED ...</td>\n",
       "      <td>0</td>\n",
       "      <td>say this slowly godi love you amp i need youcl...</td>\n",
       "      <td>slowly godi love amp need youclean heart blood...</td>\n",
       "    </tr>\n",
       "    <tr>\n",
       "      <th>4222</th>\n",
       "      <td>ham</td>\n",
       "      <td>Stupid auto correct on my phone</td>\n",
       "      <td>0</td>\n",
       "      <td>stupid auto correct on my phone</td>\n",
       "      <td>stupid auto correct phone</td>\n",
       "    </tr>\n",
       "  </tbody>\n",
       "</table>\n",
       "</div>"
      ],
      "text/plain": [
       "     result                                              input  target  \\\n",
       "1487    ham                    I told your number to gautham..       0   \n",
       "3253    ham             I can make lasagna for you... vodka...       0   \n",
       "2701    ham  Hiya, sorry didn't hav signal. I haven't seen ...       0   \n",
       "1856    ham  Say this slowly.? GOD,I LOVE YOU &amp; I NEED ...       0   \n",
       "4222    ham                    Stupid auto correct on my phone       0   \n",
       "\n",
       "                                          input_cleaned  \\\n",
       "1487                      i told your number to gautham   \n",
       "3253                   i can make lasagna for you vodka   \n",
       "2701  hiya sorry didnt hav signal i havent seen or h...   \n",
       "1856  say this slowly godi love you amp i need youcl...   \n",
       "4222                    stupid auto correct on my phone   \n",
       "\n",
       "                                       input_lemnatized  \n",
       "1487                                tell number gautham  \n",
       "3253                                      lasagna vodka  \n",
       "2701  hiya sorry hav signal hear unusual ill case so...  \n",
       "1856  slowly godi love amp need youclean heart blood...  \n",
       "4222                          stupid auto correct phone  "
      ]
     },
     "execution_count": 33,
     "metadata": {},
     "output_type": "execute_result"
    }
   ],
   "source": [
    "# Lemmatisation grâce à spacy, adapté au vocabulaire \"web\", de taille medium :\n",
    "# La lemmatisation est un processus linguistique qui transforme un mot en sa forme de base ou \"lemma\". Par exemple, les mots \"running\", \"runs\", et \"ran\" sont tous transformés en leur lemma \"run\" lors de la lemmatisation. Cela aide à réduire la complexité du texte pour l'analyse, en regroupant ensemble les différentes formes d'un même mot.\n",
    "df[\"input_lemnatized\"] = df[\"input_cleaned\"].apply(lambda x: \" \".join([token.lemma_ for token in nlp(x) if (token.lemma_ not in STOP_WORDS) & (token.text not in STOP_WORDS)]))\n",
    "df.sample(5)"
   ]
  },
  {
   "cell_type": "markdown",
   "metadata": {},
   "source": [
    "### 3. Tokenization"
   ]
  },
  {
   "cell_type": "code",
   "execution_count": 34,
   "metadata": {},
   "outputs": [
    {
     "data": {
      "text/html": [
       "<div>\n",
       "<style scoped>\n",
       "    .dataframe tbody tr th:only-of-type {\n",
       "        vertical-align: middle;\n",
       "    }\n",
       "\n",
       "    .dataframe tbody tr th {\n",
       "        vertical-align: top;\n",
       "    }\n",
       "\n",
       "    .dataframe thead th {\n",
       "        text-align: right;\n",
       "    }\n",
       "</style>\n",
       "<table border=\"1\" class=\"dataframe\">\n",
       "  <thead>\n",
       "    <tr style=\"text-align: right;\">\n",
       "      <th></th>\n",
       "      <th>result</th>\n",
       "      <th>input</th>\n",
       "      <th>target</th>\n",
       "      <th>input_cleaned</th>\n",
       "      <th>input_lemnatized</th>\n",
       "      <th>input_tokenized</th>\n",
       "    </tr>\n",
       "  </thead>\n",
       "  <tbody>\n",
       "    <tr>\n",
       "      <th>90</th>\n",
       "      <td>ham</td>\n",
       "      <td>Yeah do! Don‰Û÷t stand to close tho- you‰Û÷ll ...</td>\n",
       "      <td>0</td>\n",
       "      <td>yeah do donût stand to close tho youûll catch ...</td>\n",
       "      <td>yeah donût stand close tho youûll catch</td>\n",
       "      <td>[77, 1088, 665, 303, 449, 3661, 467]</td>\n",
       "    </tr>\n",
       "    <tr>\n",
       "      <th>1409</th>\n",
       "      <td>ham</td>\n",
       "      <td>Where at were hungry too</td>\n",
       "      <td>0</td>\n",
       "      <td>where at were hungry too</td>\n",
       "      <td>hungry</td>\n",
       "      <td>[532]</td>\n",
       "    </tr>\n",
       "    <tr>\n",
       "      <th>3528</th>\n",
       "      <td>spam</td>\n",
       "      <td>Xmas &amp; New Years Eve tickets are now on sale f...</td>\n",
       "      <td>1</td>\n",
       "      <td>xmas new years eve tickets are now on sale fro...</td>\n",
       "      <td>xma new year eve ticket sale club day 10 till ...</td>\n",
       "      <td>[904, 37, 91, 415, 474, 825, 398, 16, 489, 328...</td>\n",
       "    </tr>\n",
       "    <tr>\n",
       "      <th>804</th>\n",
       "      <td>ham</td>\n",
       "      <td>K I'll be there before 4.</td>\n",
       "      <td>0</td>\n",
       "      <td>k ill be there before 4</td>\n",
       "      <td>k ill 4</td>\n",
       "      <td>[98, 17, 7]</td>\n",
       "    </tr>\n",
       "    <tr>\n",
       "      <th>340</th>\n",
       "      <td>ham</td>\n",
       "      <td>Ok that's great thanx a lot.</td>\n",
       "      <td>0</td>\n",
       "      <td>ok thats great thanx a lot</td>\n",
       "      <td>ok s great thanx lot</td>\n",
       "      <td>[9, 6, 52, 261, 135]</td>\n",
       "    </tr>\n",
       "  </tbody>\n",
       "</table>\n",
       "</div>"
      ],
      "text/plain": [
       "     result                                              input  target  \\\n",
       "90      ham  Yeah do! Don‰Û÷t stand to close tho- you‰Û÷ll ...       0   \n",
       "1409    ham                           Where at were hungry too       0   \n",
       "3528   spam  Xmas & New Years Eve tickets are now on sale f...       1   \n",
       "804     ham                          K I'll be there before 4.       0   \n",
       "340     ham                       Ok that's great thanx a lot.       0   \n",
       "\n",
       "                                          input_cleaned  \\\n",
       "90    yeah do donût stand to close tho youûll catch ...   \n",
       "1409                           where at were hungry too   \n",
       "3528  xmas new years eve tickets are now on sale fro...   \n",
       "804                             k ill be there before 4   \n",
       "340                          ok thats great thanx a lot   \n",
       "\n",
       "                                       input_lemnatized  \\\n",
       "90              yeah donût stand close tho youûll catch   \n",
       "1409                                             hungry   \n",
       "3528  xma new year eve ticket sale club day 10 till ...   \n",
       "804                                             k ill 4   \n",
       "340                                ok s great thanx lot   \n",
       "\n",
       "                                        input_tokenized  \n",
       "90                 [77, 1088, 665, 303, 449, 3661, 467]  \n",
       "1409                                              [532]  \n",
       "3528  [904, 37, 91, 415, 474, 825, 398, 16, 489, 328...  \n",
       "804                                         [98, 17, 7]  \n",
       "340                                [9, 6, 52, 261, 135]  "
      ]
     },
     "execution_count": 34,
     "metadata": {},
     "output_type": "execute_result"
    }
   ],
   "source": [
    "# La tokenisation est une étape clé du prétraitement du texte dans le domaine du traitement du langage naturel (NLP). Elle consiste à diviser le texte en unités plus petites, appelées \"tokens\". Dans le contexte le plus courant, les tokens sont souvent des mots individuels\n",
    "\n",
    "token = tf.keras.preprocessing.text.Tokenizer()\n",
    "token.fit_on_texts(df[\"input_lemnatized\"])\n",
    "df[\"input_tokenized\"] = token.texts_to_sequences(df[\"input_lemnatized\"])\n",
    "df.sample(5)"
   ]
  },
  {
   "cell_type": "code",
   "execution_count": 35,
   "metadata": {},
   "outputs": [
    {
     "data": {
      "text/html": [
       "<div>\n",
       "<style scoped>\n",
       "    .dataframe tbody tr th:only-of-type {\n",
       "        vertical-align: middle;\n",
       "    }\n",
       "\n",
       "    .dataframe tbody tr th {\n",
       "        vertical-align: top;\n",
       "    }\n",
       "\n",
       "    .dataframe thead th {\n",
       "        text-align: right;\n",
       "    }\n",
       "</style>\n",
       "<table border=\"1\" class=\"dataframe\">\n",
       "  <thead>\n",
       "    <tr style=\"text-align: right;\">\n",
       "      <th></th>\n",
       "      <th>result</th>\n",
       "      <th>input</th>\n",
       "      <th>target</th>\n",
       "      <th>input_cleaned</th>\n",
       "      <th>input_lemnatized</th>\n",
       "      <th>input_tokenized</th>\n",
       "      <th>input_len</th>\n",
       "    </tr>\n",
       "  </thead>\n",
       "  <tbody>\n",
       "    <tr>\n",
       "      <th>5187</th>\n",
       "      <td>ham</td>\n",
       "      <td>WHAT TIME U WRKIN?</td>\n",
       "      <td>0</td>\n",
       "      <td>what time u wrkin</td>\n",
       "      <td>time u wrkin</td>\n",
       "      <td>[18, 1, 7925]</td>\n",
       "      <td>3</td>\n",
       "    </tr>\n",
       "    <tr>\n",
       "      <th>211</th>\n",
       "      <td>ham</td>\n",
       "      <td>Home so we can always chat</td>\n",
       "      <td>0</td>\n",
       "      <td>home so we can always chat</td>\n",
       "      <td>home chat</td>\n",
       "      <td>[25, 117]</td>\n",
       "      <td>2</td>\n",
       "    </tr>\n",
       "    <tr>\n",
       "      <th>19</th>\n",
       "      <td>spam</td>\n",
       "      <td>England v Macedonia - dont miss the goals/team...</td>\n",
       "      <td>1</td>\n",
       "      <td>england v macedonia dont miss the goalsteam ne...</td>\n",
       "      <td>england v macedonia miss goalsteam news txt ur...</td>\n",
       "      <td>[711, 131, 3615, 44, 3616, 448, 24, 4, 610, 94...</td>\n",
       "      <td>19</td>\n",
       "    </tr>\n",
       "    <tr>\n",
       "      <th>2825</th>\n",
       "      <td>ham</td>\n",
       "      <td>Ok lor...</td>\n",
       "      <td>0</td>\n",
       "      <td>ok lor</td>\n",
       "      <td>ok lor</td>\n",
       "      <td>[9, 26]</td>\n",
       "      <td>2</td>\n",
       "    </tr>\n",
       "    <tr>\n",
       "      <th>1132</th>\n",
       "      <td>ham</td>\n",
       "      <td>Good morning princess! How are you?</td>\n",
       "      <td>0</td>\n",
       "      <td>good morning princess how are you</td>\n",
       "      <td>good morning princess</td>\n",
       "      <td>[12, 85, 254]</td>\n",
       "      <td>3</td>\n",
       "    </tr>\n",
       "  </tbody>\n",
       "</table>\n",
       "</div>"
      ],
      "text/plain": [
       "     result                                              input  target  \\\n",
       "5187    ham                                 WHAT TIME U WRKIN?       0   \n",
       "211     ham                         Home so we can always chat       0   \n",
       "19     spam  England v Macedonia - dont miss the goals/team...       1   \n",
       "2825    ham                                          Ok lor...       0   \n",
       "1132    ham                Good morning princess! How are you?       0   \n",
       "\n",
       "                                          input_cleaned  \\\n",
       "5187                                  what time u wrkin   \n",
       "211                          home so we can always chat   \n",
       "19    england v macedonia dont miss the goalsteam ne...   \n",
       "2825                                             ok lor   \n",
       "1132                  good morning princess how are you   \n",
       "\n",
       "                                       input_lemnatized  \\\n",
       "5187                                       time u wrkin   \n",
       "211                                           home chat   \n",
       "19    england v macedonia miss goalsteam news txt ur...   \n",
       "2825                                             ok lor   \n",
       "1132                              good morning princess   \n",
       "\n",
       "                                        input_tokenized  input_len  \n",
       "5187                                      [18, 1, 7925]          3  \n",
       "211                                           [25, 117]          2  \n",
       "19    [711, 131, 3615, 44, 3616, 448, 24, 4, 610, 94...         19  \n",
       "2825                                            [9, 26]          2  \n",
       "1132                                      [12, 85, 254]          3  "
      ]
     },
     "metadata": {},
     "output_type": "display_data"
    },
    {
     "data": {
      "text/plain": [
       "(5555, 7)"
      ]
     },
     "execution_count": 35,
     "metadata": {},
     "output_type": "execute_result"
    }
   ],
   "source": [
    "df[\"input_len\"] = df[\"input_tokenized\"].apply(lambda x: len(x))\n",
    "\n",
    "# remove empty text\n",
    "df = df[df[\"input_len\"]!=0]\n",
    "display(df.sample(5))\n",
    "df.shape"
   ]
  },
  {
   "cell_type": "code",
   "execution_count": 36,
   "metadata": {},
   "outputs": [
    {
     "data": {
      "text/plain": [
       "(5555, 72)"
      ]
     },
     "execution_count": 36,
     "metadata": {},
     "output_type": "execute_result"
    }
   ],
   "source": [
    "# on fait un le pading(pour transformer les séquences de nombres de la colonne \"input_tokenized\" en séquences de longueur fixe)\n",
    "train_pad = tf.keras.preprocessing.sequence.pad_sequences(df[\"input_tokenized\"], padding=\"post\")\n",
    "train_pad.shape"
   ]
  },
  {
   "cell_type": "markdown",
   "metadata": {},
   "source": [
    "### 4. Spliting"
   ]
  },
  {
   "cell_type": "code",
   "execution_count": 37,
   "metadata": {},
   "outputs": [],
   "source": [
    "xtrain, xval, ytrain, yval = train_test_split(train_pad, df[\"target\"],\n",
    "                                              test_size=0.2, random_state=0,\n",
    "                                              stratify=df[\"target\"])\n",
    "\n",
    "train = tf.data.Dataset.from_tensor_slices((xtrain, ytrain))\n",
    "val = tf.data.Dataset.from_tensor_slices((xval, yval))\n",
    "\n",
    "train_data = train.shuffle(len(train)).batch(64)\n",
    "val_data = val.shuffle(len(val)).batch(64)"
   ]
  },
  {
   "cell_type": "code",
   "execution_count": 38,
   "metadata": {},
   "outputs": [
    {
     "name": "stdout",
     "output_type": "stream",
     "text": [
      "0 [ 173   71 1150 1120  381 1141  277   89   49   34  570    2 1140   45\n",
      "   55  148   59  570   89  600   45  347  270  131  484    0    0    0\n",
      "    0    0    0    0    0    0    0    0    0    0    0    0    0    0\n",
      "    0    0    0    0    0    0    0    0    0    0    0    0    0    0\n",
      "    0    0    0    0    0    0    0    0    0    0    0    0    0    0\n",
      "    0    0]\n",
      "0 [  2 306  68 995  17  25  38 122   0   0   0   0   0   0   0   0   0   0\n",
      "   0   0   0   0   0   0   0   0   0   0   0   0   0   0   0   0   0   0\n",
      "   0   0   0   0   0   0   0   0   0   0   0   0   0   0   0   0   0   0\n",
      "   0   0   0   0   0   0   0   0   0   0   0   0   0   0   0   0   0   0]\n",
      "0 [   1 2698  184   17  108 5108 3061 5109    3  244    1    8    1   64\n",
      " 5110 5111 5112 5113    1    0    0    0    0    0    0    0    0    0\n",
      "    0    0    0    0    0    0    0    0    0    0    0    0    0    0\n",
      "    0    0    0    0    0    0    0    0    0    0    0    0    0    0\n",
      "    0    0    0    0    0    0    0    0    0    0    0    0    0    0\n",
      "    0    0]\n",
      "0 [132 183   0   0   0   0   0   0   0   0   0   0   0   0   0   0   0   0\n",
      "   0   0   0   0   0   0   0   0   0   0   0   0   0   0   0   0   0   0\n",
      "   0   0   0   0   0   0   0   0   0   0   0   0   0   0   0   0   0   0\n",
      "   0   0   0   0   0   0   0   0   0   0   0   0   0   0   0   0   0   0]\n",
      "1 [   4  181   32  488  530  642 1009   24  198 1969  527 2595 1010 1571\n",
      " 1324    0    0    0    0    0    0    0    0    0    0    0    0    0\n",
      "    0    0    0    0    0    0    0    0    0    0    0    0    0    0\n",
      "    0    0    0    0    0    0    0    0    0    0    0    0    0    0\n",
      "    0    0    0    0    0    0    0    0    0    0    0    0    0    0\n",
      "    0    0]\n"
     ]
    }
   ],
   "source": [
    "# Pour chaque target on affiche à côté la séquence que l'on a crée\n",
    "\n",
    "for text_batch, label_batch in train_data.take(1):\n",
    "  for i in range(5):\n",
    "    print(label_batch[i].numpy(), text_batch.numpy()[i])"
   ]
  },
  {
   "cell_type": "markdown",
   "metadata": {},
   "source": [
    "# Modeling"
   ]
  },
  {
   "cell_type": "code",
   "execution_count": 39,
   "metadata": {},
   "outputs": [
    {
     "data": {
      "text/plain": [
       "8214"
      ]
     },
     "metadata": {},
     "output_type": "display_data"
    }
   ],
   "source": [
    "embedding_dim=16 # la dimensionnalité de l'espace de représentation\n",
    "vocab_size = len(token.word_counts) # Taille du vocabulaire et nombre de mots dans une séquence.\n",
    "display(vocab_size)"
   ]
  },
  {
   "cell_type": "code",
   "execution_count": 40,
   "metadata": {},
   "outputs": [
    {
     "name": "stdout",
     "output_type": "stream",
     "text": [
      "Model: \"sequential\"\n",
      "_________________________________________________________________\n",
      " Layer (type)                Output Shape              Param #   \n",
      "=================================================================\n",
      " embedding (Embedding)       (None, None, 16)          131440    \n",
      "                                                                 \n",
      " global_average_pooling1d (  (None, 16)                0         \n",
      " GlobalAveragePooling1D)                                         \n",
      "                                                                 \n",
      " dense (Dense)               (None, 32)                544       \n",
      "                                                                 \n",
      " dense_1 (Dense)             (None, 16)                528       \n",
      "                                                                 \n",
      " dense_2 (Dense)             (None, 2)                 34        \n",
      "                                                                 \n",
      "=================================================================\n",
      "Total params: 132546 (517.76 KB)\n",
      "Trainable params: 132546 (517.76 KB)\n",
      "Non-trainable params: 0 (0.00 Byte)\n",
      "_________________________________________________________________\n"
     ]
    }
   ],
   "source": [
    "# Moyenne globale du Pooling\n",
    "model_GAP = Sequential([\n",
    "  Embedding(vocab_size+1, embedding_dim, name=\"embedding\"), \n",
    "  GlobalAveragePooling1D(),\n",
    "  Dense(32, activation='relu'),\n",
    "  Dense(16, activation='relu'),\n",
    "  Dense(2, activation=\"sigmoid\") # Sigmoid nous garantit une sortie entre 0 et 1, Nous sommes dans le cas d'une classification binaire, donc cela semble être un bon choix\n",
    "])\n",
    "\n",
    "model_GAP.summary()"
   ]
  },
  {
   "cell_type": "code",
   "execution_count": 41,
   "metadata": {},
   "outputs": [],
   "source": [
    "# compilation du model \n",
    "optimizer = tf.keras.optimizers.Adam(learning_rate=0.0008)\n",
    "model_GAP.compile(optimizer=optimizer,\n",
    "              loss=tf.keras.losses.SparseCategoricalCrossentropy(),\n",
    "              metrics=[tf.keras.metrics.SparseCategoricalAccuracy()])"
   ]
  },
  {
   "cell_type": "code",
   "execution_count": 44,
   "metadata": {},
   "outputs": [
    {
     "data": {
      "text/html": [
       "<div>\n",
       "<style scoped>\n",
       "    .dataframe tbody tr th:only-of-type {\n",
       "        vertical-align: middle;\n",
       "    }\n",
       "\n",
       "    .dataframe tbody tr th {\n",
       "        vertical-align: top;\n",
       "    }\n",
       "\n",
       "    .dataframe thead th {\n",
       "        text-align: right;\n",
       "    }\n",
       "</style>\n",
       "<table border=\"1\" class=\"dataframe\">\n",
       "  <thead>\n",
       "    <tr style=\"text-align: right;\">\n",
       "      <th></th>\n",
       "      <th>result</th>\n",
       "      <th>input</th>\n",
       "      <th>target</th>\n",
       "      <th>input_cleaned</th>\n",
       "      <th>input_lemnatized</th>\n",
       "      <th>input_tokenized</th>\n",
       "      <th>input_len</th>\n",
       "    </tr>\n",
       "  </thead>\n",
       "  <tbody>\n",
       "    <tr>\n",
       "      <th>0</th>\n",
       "      <td>ham</td>\n",
       "      <td>Go until jurong point, crazy.. Available only ...</td>\n",
       "      <td>0</td>\n",
       "      <td>go until jurong point crazy available only in ...</td>\n",
       "      <td>jurong point crazy available bugis n great wor...</td>\n",
       "      <td>[3602, 231, 445, 461, 941, 35, 52, 205, 942, 7...</td>\n",
       "      <td>14</td>\n",
       "    </tr>\n",
       "    <tr>\n",
       "      <th>1</th>\n",
       "      <td>ham</td>\n",
       "      <td>Ok lar... Joking wif u oni...</td>\n",
       "      <td>0</td>\n",
       "      <td>ok lar joking wif u oni</td>\n",
       "      <td>ok lar joke wif u oni</td>\n",
       "      <td>[9, 194, 462, 288, 1, 1453]</td>\n",
       "      <td>6</td>\n",
       "    </tr>\n",
       "    <tr>\n",
       "      <th>2</th>\n",
       "      <td>spam</td>\n",
       "      <td>Free entry in 2 a wkly comp to win FA Cup fina...</td>\n",
       "      <td>1</td>\n",
       "      <td>free entry in 2 a wkly comp to win fa cup fina...</td>\n",
       "      <td>free entry 2 wkly comp win fa cup final tkts 2...</td>\n",
       "      <td>[11, 301, 3, 530, 658, 32, 1454, 844, 422, 145...</td>\n",
       "      <td>22</td>\n",
       "    </tr>\n",
       "    <tr>\n",
       "      <th>3</th>\n",
       "      <td>ham</td>\n",
       "      <td>U dun say so early hor... U c already then say...</td>\n",
       "      <td>0</td>\n",
       "      <td>u dun say so early hor u c already then say</td>\n",
       "      <td>u dun early hor u c</td>\n",
       "      <td>[1, 124, 148, 2363, 1, 83]</td>\n",
       "      <td>6</td>\n",
       "    </tr>\n",
       "    <tr>\n",
       "      <th>4</th>\n",
       "      <td>ham</td>\n",
       "      <td>Nah I don't think he goes to usf, he lives aro...</td>\n",
       "      <td>0</td>\n",
       "      <td>nah i dont think he goes to usf he lives aroun...</td>\n",
       "      <td>nah think usf live</td>\n",
       "      <td>[704, 22, 659, 129]</td>\n",
       "      <td>4</td>\n",
       "    </tr>\n",
       "    <tr>\n",
       "      <th>...</th>\n",
       "      <td>...</td>\n",
       "      <td>...</td>\n",
       "      <td>...</td>\n",
       "      <td>...</td>\n",
       "      <td>...</td>\n",
       "      <td>...</td>\n",
       "      <td>...</td>\n",
       "    </tr>\n",
       "    <tr>\n",
       "      <th>5567</th>\n",
       "      <td>spam</td>\n",
       "      <td>This is the 2nd time we have tried 2 contact u...</td>\n",
       "      <td>1</td>\n",
       "      <td>this is the 2nd time we have tried 2 contact u...</td>\n",
       "      <td>2nd time try 2 contact u u win å750 pound priz...</td>\n",
       "      <td>[266, 18, 53, 3, 92, 1, 1, 32, 8209, 278, 69, ...</td>\n",
       "      <td>19</td>\n",
       "    </tr>\n",
       "    <tr>\n",
       "      <th>5568</th>\n",
       "      <td>ham</td>\n",
       "      <td>Will Ì_ b going to esplanade fr home?</td>\n",
       "      <td>0</td>\n",
       "      <td>will ì b going to esplanade fr home</td>\n",
       "      <td>ì b esplanade fr home</td>\n",
       "      <td>[45, 108, 1537, 575, 25]</td>\n",
       "      <td>5</td>\n",
       "    </tr>\n",
       "    <tr>\n",
       "      <th>5569</th>\n",
       "      <td>ham</td>\n",
       "      <td>Pity, * was in mood for that. So...any other s...</td>\n",
       "      <td>0</td>\n",
       "      <td>pity was in mood for that soany other suggestions</td>\n",
       "      <td>pity mood soany suggestion</td>\n",
       "      <td>[8212, 936, 8213, 3598]</td>\n",
       "      <td>4</td>\n",
       "    </tr>\n",
       "    <tr>\n",
       "      <th>5570</th>\n",
       "      <td>ham</td>\n",
       "      <td>The guy did some bitching but I acted like i'd...</td>\n",
       "      <td>0</td>\n",
       "      <td>the guy did some bitching but i acted like id ...</td>\n",
       "      <td>guy bitching act like d interested buy week free</td>\n",
       "      <td>[112, 8214, 1595, 14, 31, 1119, 86, 38, 11]</td>\n",
       "      <td>9</td>\n",
       "    </tr>\n",
       "    <tr>\n",
       "      <th>5571</th>\n",
       "      <td>ham</td>\n",
       "      <td>Rofl. Its true to its name</td>\n",
       "      <td>0</td>\n",
       "      <td>rofl its true to its name</td>\n",
       "      <td>rofl true</td>\n",
       "      <td>[2077, 321]</td>\n",
       "      <td>2</td>\n",
       "    </tr>\n",
       "  </tbody>\n",
       "</table>\n",
       "<p>5555 rows × 7 columns</p>\n",
       "</div>"
      ],
      "text/plain": [
       "     result                                              input  target  \\\n",
       "0       ham  Go until jurong point, crazy.. Available only ...       0   \n",
       "1       ham                      Ok lar... Joking wif u oni...       0   \n",
       "2      spam  Free entry in 2 a wkly comp to win FA Cup fina...       1   \n",
       "3       ham  U dun say so early hor... U c already then say...       0   \n",
       "4       ham  Nah I don't think he goes to usf, he lives aro...       0   \n",
       "...     ...                                                ...     ...   \n",
       "5567   spam  This is the 2nd time we have tried 2 contact u...       1   \n",
       "5568    ham              Will Ì_ b going to esplanade fr home?       0   \n",
       "5569    ham  Pity, * was in mood for that. So...any other s...       0   \n",
       "5570    ham  The guy did some bitching but I acted like i'd...       0   \n",
       "5571    ham                         Rofl. Its true to its name       0   \n",
       "\n",
       "                                          input_cleaned  \\\n",
       "0     go until jurong point crazy available only in ...   \n",
       "1                               ok lar joking wif u oni   \n",
       "2     free entry in 2 a wkly comp to win fa cup fina...   \n",
       "3           u dun say so early hor u c already then say   \n",
       "4     nah i dont think he goes to usf he lives aroun...   \n",
       "...                                                 ...   \n",
       "5567  this is the 2nd time we have tried 2 contact u...   \n",
       "5568                will ì b going to esplanade fr home   \n",
       "5569  pity was in mood for that soany other suggestions   \n",
       "5570  the guy did some bitching but i acted like id ...   \n",
       "5571                          rofl its true to its name   \n",
       "\n",
       "                                       input_lemnatized  \\\n",
       "0     jurong point crazy available bugis n great wor...   \n",
       "1                                 ok lar joke wif u oni   \n",
       "2     free entry 2 wkly comp win fa cup final tkts 2...   \n",
       "3                                   u dun early hor u c   \n",
       "4                                    nah think usf live   \n",
       "...                                                 ...   \n",
       "5567  2nd time try 2 contact u u win å750 pound priz...   \n",
       "5568                              ì b esplanade fr home   \n",
       "5569                         pity mood soany suggestion   \n",
       "5570   guy bitching act like d interested buy week free   \n",
       "5571                                          rofl true   \n",
       "\n",
       "                                        input_tokenized  input_len  \n",
       "0     [3602, 231, 445, 461, 941, 35, 52, 205, 942, 7...         14  \n",
       "1                           [9, 194, 462, 288, 1, 1453]          6  \n",
       "2     [11, 301, 3, 530, 658, 32, 1454, 844, 422, 145...         22  \n",
       "3                            [1, 124, 148, 2363, 1, 83]          6  \n",
       "4                                   [704, 22, 659, 129]          4  \n",
       "...                                                 ...        ...  \n",
       "5567  [266, 18, 53, 3, 92, 1, 1, 32, 8209, 278, 69, ...         19  \n",
       "5568                           [45, 108, 1537, 575, 25]          5  \n",
       "5569                            [8212, 936, 8213, 3598]          4  \n",
       "5570        [112, 8214, 1595, 14, 31, 1119, 86, 38, 11]          9  \n",
       "5571                                        [2077, 321]          2  \n",
       "\n",
       "[5555 rows x 7 columns]"
      ]
     },
     "execution_count": 44,
     "metadata": {},
     "output_type": "execute_result"
    }
   ],
   "source": [
    "df"
   ]
  },
  {
   "cell_type": "code",
   "execution_count": 45,
   "metadata": {},
   "outputs": [
    {
     "name": "stdout",
     "output_type": "stream",
     "text": [
      "Epoch 1/30\n",
      "70/70 [==============================] - 1s 3ms/step - loss: 0.6898 - sparse_categorical_accuracy: 0.4377 - val_loss: 0.6717 - val_sparse_categorical_accuracy: 0.9307\n",
      "Epoch 2/30\n",
      "70/70 [==============================] - 0s 2ms/step - loss: 0.6471 - sparse_categorical_accuracy: 0.9570 - val_loss: 0.5791 - val_sparse_categorical_accuracy: 0.9712\n",
      "Epoch 3/30\n",
      "70/70 [==============================] - 0s 2ms/step - loss: 0.4570 - sparse_categorical_accuracy: 0.9827 - val_loss: 0.3078 - val_sparse_categorical_accuracy: 0.9757\n",
      "Epoch 4/30\n",
      "70/70 [==============================] - 0s 2ms/step - loss: 0.2115 - sparse_categorical_accuracy: 0.9863 - val_loss: 0.1496 - val_sparse_categorical_accuracy: 0.9766\n",
      "Epoch 5/30\n",
      "70/70 [==============================] - 0s 2ms/step - loss: 0.1089 - sparse_categorical_accuracy: 0.9903 - val_loss: 0.1070 - val_sparse_categorical_accuracy: 0.9784\n",
      "Epoch 6/30\n",
      "70/70 [==============================] - 0s 2ms/step - loss: 0.0696 - sparse_categorical_accuracy: 0.9932 - val_loss: 0.0858 - val_sparse_categorical_accuracy: 0.9793\n",
      "Epoch 7/30\n",
      "70/70 [==============================] - 0s 2ms/step - loss: 0.0495 - sparse_categorical_accuracy: 0.9959 - val_loss: 0.0838 - val_sparse_categorical_accuracy: 0.9811\n",
      "Epoch 8/30\n",
      "70/70 [==============================] - 0s 2ms/step - loss: 0.0373 - sparse_categorical_accuracy: 0.9971 - val_loss: 0.0784 - val_sparse_categorical_accuracy: 0.9811\n",
      "Epoch 9/30\n",
      "70/70 [==============================] - 0s 2ms/step - loss: 0.0303 - sparse_categorical_accuracy: 0.9973 - val_loss: 0.0757 - val_sparse_categorical_accuracy: 0.9811\n",
      "Epoch 10/30\n",
      "70/70 [==============================] - 0s 2ms/step - loss: 0.0230 - sparse_categorical_accuracy: 0.9980 - val_loss: 0.0730 - val_sparse_categorical_accuracy: 0.9820\n",
      "Epoch 11/30\n",
      "70/70 [==============================] - 0s 2ms/step - loss: 0.0190 - sparse_categorical_accuracy: 0.9982 - val_loss: 0.0736 - val_sparse_categorical_accuracy: 0.9802\n",
      "Epoch 12/30\n",
      "70/70 [==============================] - 0s 2ms/step - loss: 0.0160 - sparse_categorical_accuracy: 0.9989 - val_loss: 0.0754 - val_sparse_categorical_accuracy: 0.9802\n",
      "Epoch 13/30\n",
      "70/70 [==============================] - 0s 2ms/step - loss: 0.0144 - sparse_categorical_accuracy: 0.9991 - val_loss: 0.0800 - val_sparse_categorical_accuracy: 0.9793\n",
      "Epoch 14/30\n",
      "70/70 [==============================] - 0s 2ms/step - loss: 0.0107 - sparse_categorical_accuracy: 0.9993 - val_loss: 0.0762 - val_sparse_categorical_accuracy: 0.9820\n",
      "Epoch 15/30\n",
      "70/70 [==============================] - 0s 2ms/step - loss: 0.0097 - sparse_categorical_accuracy: 0.9991 - val_loss: 0.0788 - val_sparse_categorical_accuracy: 0.9811\n",
      "Epoch 16/30\n",
      "70/70 [==============================] - 0s 2ms/step - loss: 0.0081 - sparse_categorical_accuracy: 0.9995 - val_loss: 0.0812 - val_sparse_categorical_accuracy: 0.9793\n",
      "Epoch 17/30\n",
      "70/70 [==============================] - 0s 2ms/step - loss: 0.0076 - sparse_categorical_accuracy: 0.9993 - val_loss: 0.0798 - val_sparse_categorical_accuracy: 0.9829\n",
      "Epoch 18/30\n",
      "70/70 [==============================] - 0s 2ms/step - loss: 0.0058 - sparse_categorical_accuracy: 0.9998 - val_loss: 0.0821 - val_sparse_categorical_accuracy: 0.9838\n",
      "Epoch 19/30\n",
      "70/70 [==============================] - 0s 2ms/step - loss: 0.0055 - sparse_categorical_accuracy: 0.9995 - val_loss: 0.0835 - val_sparse_categorical_accuracy: 0.9793\n",
      "Epoch 20/30\n",
      "70/70 [==============================] - 0s 2ms/step - loss: 0.0053 - sparse_categorical_accuracy: 0.9993 - val_loss: 0.0850 - val_sparse_categorical_accuracy: 0.9838\n",
      "Epoch 21/30\n",
      "70/70 [==============================] - 0s 2ms/step - loss: 0.0048 - sparse_categorical_accuracy: 0.9993 - val_loss: 0.0854 - val_sparse_categorical_accuracy: 0.9829\n",
      "Epoch 22/30\n",
      "70/70 [==============================] - 0s 2ms/step - loss: 0.0037 - sparse_categorical_accuracy: 0.9998 - val_loss: 0.0881 - val_sparse_categorical_accuracy: 0.9838\n",
      "Epoch 23/30\n",
      "70/70 [==============================] - 0s 2ms/step - loss: 0.0038 - sparse_categorical_accuracy: 0.9995 - val_loss: 0.0868 - val_sparse_categorical_accuracy: 0.9820\n",
      "Epoch 24/30\n",
      "70/70 [==============================] - 0s 2ms/step - loss: 0.0034 - sparse_categorical_accuracy: 0.9995 - val_loss: 0.0878 - val_sparse_categorical_accuracy: 0.9829\n",
      "Epoch 25/30\n",
      "70/70 [==============================] - 0s 2ms/step - loss: 0.0028 - sparse_categorical_accuracy: 1.0000 - val_loss: 0.0900 - val_sparse_categorical_accuracy: 0.9838\n",
      "Epoch 26/30\n",
      "70/70 [==============================] - 0s 2ms/step - loss: 0.0033 - sparse_categorical_accuracy: 0.9998 - val_loss: 0.0907 - val_sparse_categorical_accuracy: 0.9829\n",
      "Epoch 27/30\n",
      "70/70 [==============================] - 0s 2ms/step - loss: 0.0025 - sparse_categorical_accuracy: 0.9998 - val_loss: 0.0954 - val_sparse_categorical_accuracy: 0.9838\n",
      "Epoch 28/30\n",
      "70/70 [==============================] - 0s 2ms/step - loss: 0.0020 - sparse_categorical_accuracy: 0.9998 - val_loss: 0.0948 - val_sparse_categorical_accuracy: 0.9838\n",
      "Epoch 29/30\n",
      "70/70 [==============================] - 0s 2ms/step - loss: 0.0020 - sparse_categorical_accuracy: 1.0000 - val_loss: 0.0939 - val_sparse_categorical_accuracy: 0.9838\n",
      "Epoch 30/30\n",
      "70/70 [==============================] - 0s 2ms/step - loss: 0.0018 - sparse_categorical_accuracy: 0.9998 - val_loss: 0.0989 - val_sparse_categorical_accuracy: 0.9838\n"
     ]
    },
    {
     "data": {
      "text/plain": [
       "<keras.src.callbacks.History at 0x1e81b51aad0>"
      ]
     },
     "execution_count": 45,
     "metadata": {},
     "output_type": "execute_result"
    }
   ],
   "source": [
    "# model fitting\n",
    "\n",
    "# get the apparition frequency for spam\n",
    "\n",
    "spam_freq = pd.DataFrame(df[\"target\"].value_counts())\n",
    "spam_freq.columns = ['target']\n",
    "spam_freq.sort_index(inplace=True)\n",
    "class_weight = {v: (1 / spam_freq.loc[v,\"target\"]) / 2 * spam_freq[\"target\"].sum() for v in spam_freq.index}\n",
    "\n",
    "\n",
    "model_GAP.fit(\n",
    "    train_data,\n",
    "    validation_data=val_data,\n",
    "    class_weight=class_weight,\n",
    "    epochs=30)"
   ]
  },
  {
   "cell_type": "code",
   "execution_count": 46,
   "metadata": {},
   "outputs": [
    {
     "data": {
      "image/png": "[encoded data removed]",
      "text/plain": [
       "<Figure size 640x480 with 1 Axes>"
      ]
     },
     "metadata": {},
     "output_type": "display_data"
    }
   ],
   "source": [
    "# plot model\n",
    "# Visualization of the training process on the loss function \n",
    "plt.plot(model_GAP.history.history[\"loss\"], color=\"r\", label = \"Train accuracy\")\n",
    "plt.plot(model_GAP.history.history[\"val_loss\"], color=\"g\", label='Val accuracy')\n",
    "plt.gca().set(title='Loss',xlabel='Epochs',ylabel='Accuracy')\n",
    "plt.title(\"model : Global Average Pooling\")\n",
    "plt.legend()\n",
    "plt.show()"
   ]
  },
  {
   "cell_type": "code",
   "execution_count": 47,
   "metadata": {},
   "outputs": [
    {
     "data": {
      "image/png": "[encoded data removed]",
      "text/plain": [
       "<Figure size 640x480 with 1 Axes>"
      ]
     },
     "metadata": {},
     "output_type": "display_data"
    }
   ],
   "source": [
    "plt.plot(model_GAP.history.history[\"sparse_categorical_accuracy\"], color=\"r\", label='Train accuracy')\n",
    "plt.plot(model_GAP.history.history[\"val_sparse_categorical_accuracy\"], color=\"g\", label='Val accuracy')\n",
    "plt.gca().set(title='Accuracy',xlabel='Epochs',ylabel='Accuracy')\n",
    "plt.title(\"model : Global Average Pooling\")\n",
    "plt.legend()\n",
    "plt.show()"
   ]
  },
  {
   "cell_type": "markdown",
   "metadata": {},
   "source": [
    "Le modèle n'a besoin que de quelques époques pour atteindre une bonne performance et commence à être stable après l'époque 5."
   ]
  },
  {
   "cell_type": "code",
   "execution_count": 49,
   "metadata": {},
   "outputs": [
    {
     "name": "stdout",
     "output_type": "stream",
     "text": [
      "35/35 [==============================] - 0s 700us/step\n",
      "              precision    recall  f1-score   support\n",
      "\n",
      "           0       0.98      1.00      0.99       962\n",
      "           1       0.99      0.89      0.94       149\n",
      "\n",
      "    accuracy                           0.98      1111\n",
      "   macro avg       0.98      0.95      0.96      1111\n",
      "weighted avg       0.98      0.98      0.98      1111\n",
      "\n"
     ]
    }
   ],
   "source": [
    "# Faisons quelques predictions\n",
    "\n",
    "yp_val = model_GAP.predict(xval)\n",
    "print(classification_report(yval, yp_val.argmax(axis=1)))"
   ]
  },
  {
   "cell_type": "code",
   "execution_count": 50,
   "metadata": {},
   "outputs": [
    {
     "data": {
      "image/png": "[encoded data removed]",
      "text/plain": [
       "<Figure size 640x480 with 2 Axes>"
      ]
     },
     "metadata": {},
     "output_type": "display_data"
    }
   ],
   "source": [
    "# plot\n",
    "_ , ax = plt.subplots()\n",
    "ax.set(title=\"Confusion Matrix on Test set\")\n",
    "ConfusionMatrixDisplay.from_predictions(yval, yp_val.argmax(axis=1), ax=ax)\n",
    "plt.show(ax)"
   ]
  },
  {
   "cell_type": "markdown",
   "metadata": {},
   "source": [
    "On constate que le modele plutôt bien.\n",
    "Le modèle n'a échoué que 16 fois pour identifier un spam et échoue 2 fois en identifiant un ham comme spam. Les performances sont bonnes, mais nous devons être sûrs que les messages seront conservés dans la boîte de courrier indésirable et non détruits."
   ]
  },
  {
   "cell_type": "code",
   "execution_count": null,
   "metadata": {},
   "outputs": [],
   "source": [
    "# On sauvegarde le modèle\n",
    "# https://www.tensorflow.org/api_docs/python/tf/keras/Sequential\n",
    "# format de sauvegarde : Soit 'tf' ou 'h5'. Un chemin de fichier se terminant par '.h5' ou '.keras' sera par défaut HDF5 si save_format est None. Sinon, aucun par défaut est 'tf'.\n",
    "model_GAP.save(\"models/model_GAP.h5\")"
   ]
  }
 ],
 "metadata": {
  "kernelspec": {
   "display_name": "Python 3.9.12 ('base')",
   "language": "python",
   "name": "python3"
  },
  "language_info": {
   "codemirror_mode": {
    "name": "ipython",
    "version": 3
   },
   "file_extension": ".py",
   "mimetype": "text/x-python",
   "name": "python",
   "nbconvert_exporter": "python",
   "pygments_lexer": "ipython3",
   "version": "3.10.10"
  },
  "vscode": {
   "interpreter": {
    "hash": "16196ea7eff63910081d4e10ae1bdb1eb18fd83cb470bb8efbb9fa6b0c724af5"
   }
  }
 },
 "nbformat": 4,
 "nbformat_minor": 2
}
